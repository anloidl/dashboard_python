{
 "cells": [
  {
   "cell_type": "markdown",
   "id": "640274e6-d67a-4899-9195-8b8eb07a4a01",
   "metadata": {},
   "source": [
    "Dieses Dashboard dient zur Verfolgung meines Studiums der \"Angewandten Künstlichen Intelligenz\" an der IU. Es kombiniert objektorientierte Konzepte mit einer GUI, welche mittels tkinter implementiert ist.\n",
    "\n",
    "In diesem Notebook wird das Projekt gestartet. Alle übrigen Sourcedateien sind .py.\n",
    "\n",
    "Der Ablauf ist folgender:\n",
    "1. Importieren aller erforderlichen Module\n",
    "2. Prüfen ob Ressourcen-Dateien vorhanden sind. Wenn nicht wird Initialisierungslogik durchlaufen\n",
    "3. Start des Dashboards"
   ]
  },
  {
   "cell_type": "code",
   "execution_count": 4,
   "id": "984ccce1-5a10-434a-9fd1-26289f0b35b9",
   "metadata": {
    "editable": true,
    "slideshow": {
     "slide_type": ""
    },
    "tags": []
   },
   "outputs": [],
   "source": [
    "import tkinter as tk\n",
    "from datetime import date\n",
    "import json\n",
    "import os\n",
    "\n",
    "from gui.dashboard_gui import StudentDashboard\n",
    "from business.entities import Student, Studiengang, Semester, Studienziel, Zieltyp, Modul, ModulStatus\n",
    "from business.dashboard_service import DashboardService\n",
    "from data.daten_verwaltung import DatenVerwaltung"
   ]
  },
  {
   "cell_type": "markdown",
   "id": "d78deba2-9d5c-4b20-87e5-261f46a29332",
   "metadata": {},
   "source": [
    "Vor dem Start des Dashboards, wird geprüft, ob die Ressourcen-Dateien existieren (CSV-Dateien). Falls nicht, wird die Initialisierungslogik durchlaufen."
   ]
  },
  {
   "cell_type": "code",
   "execution_count": 6,
   "id": "80e109c6-c441-4006-8273-4b67b6b90fd4",
   "metadata": {
    "editable": true,
    "slideshow": {
     "slide_type": ""
    },
    "tags": []
   },
   "outputs": [],
   "source": [
    "def csv_existieren(*filenamen) -> bool:\n",
    "    \"\"\"Prüft, ob alle angegebenen CSV-Dateien existieren.\"\"\"\n",
    "    return all(os.path.exists(f\"resources/{name}.csv\") for name in filenamen)"
   ]
  },
  {
   "cell_type": "markdown",
   "id": "e372d89f-d7a3-49ca-a699-441b459303d5",
   "metadata": {},
   "source": [
    "Wenn die CSV-Dateien nicht vorhanden sind (erstmaliger Start), werden Module, Semester, ein Student, \n",
    "der Studiengang sowie Studienziele angelegt und in den CSV-Dateien gespeichert."
   ]
  },
  {
   "cell_type": "code",
   "execution_count": 8,
   "id": "be8a097a-449f-4398-a565-d9ad4fdcc328",
   "metadata": {
    "editable": true,
    "slideshow": {
     "slide_type": ""
    },
    "tags": []
   },
   "outputs": [],
   "source": [
    "def main():\n",
    "    dv = DatenVerwaltung()\n",
    "\n",
    "    # Dateien, die geprüft werden sollen\n",
    "    erforderliche_dateien = [\"module\", \"semester\", \"studiengang\", \"student\", \"studienziele\"]\n",
    "\n",
    "    if not csv_existieren(*erforderliche_dateien):\n",
    "        # Initialisierung nur beim ersten Start\n",
    "        # Module speichern\n",
    "        modul_mathematik = Modul(\"Modul_1\", \"Mathematik für KI\", 5, ModulStatus.AKTIV)\n",
    "        modul_python = Modul(\"Modul_2\", \"Programmieren in Python\", 5, ModulStatus.ABGESCHLOSSEN)\n",
    "        modul_machine_learning = Modul(\"Modul_3\", \"Machine Learning Grundlagen\", 5, ModulStatus.OFFEN)\n",
    "        modul_datenstrukturen = Modul(\"Modul_4\", \"Datenstrukturen & Algorithmen\", 5, ModulStatus.OFFEN)\n",
    "        modul_statistik = Modul(\"Modul_5\", \"Statistik für Data Science\", 5, ModulStatus.OFFEN)\n",
    "        modul_deep_learning = Modul(\"Modul_6\", \"Deep Learning\", 5, ModulStatus.OFFEN)\n",
    "        dv.speichere(\"module\", [modul_mathematik, modul_python, modul_machine_learning, modul_datenstrukturen, \n",
    "                                modul_statistik, modul_deep_learning])\n",
    "\n",
    "        # Semester anlegen\n",
    "        semester_1 = Semester(\"2025SS\", 1, [modul_mathematik, modul_python])\n",
    "        semester_2 = Semester(\"2025WS\", 2, [modul_machine_learning, modul_datenstrukturen])\n",
    "        semester_3 = Semester(\"2026SS\", 3, [modul_statistik, modul_deep_learning])\n",
    "    \n",
    "        dv.speichere(\"semester\", [semester_1, semester_2, semester_3])\n",
    "    \n",
    "        # Studenten anlegen und in Studiengang immatrikulieren\n",
    "        student = Student(\"1\", \"Andreas Loidl\", \"andreas.loidl@gmail.com\", date(1981,8,13), json.dumps({\"KW 35\": [2, 1]}))\n",
    "        studiengang = Studiengang(\"AI_1\", \"Angewandte Künstliche Intelligenz\", 6, 180, [semester_1, semester_2, semester_3])\n",
    "        student.immatrikulieren(studiengang)\n",
    "        dv.speichere(\"studiengang\", [studiengang])\n",
    "        dv.speichere(\"student\", [student])\n",
    "\n",
    "        # Studienziele speichern\n",
    "        studienziel_ects_gesamt = Studienziel(\"Ziel_ECTS_Gesamt\", Zieltyp.ECTS_GESAMT, 180.0, 0.0, False)\n",
    "        studienziel_ects_semester = Studienziel(\"Ziel_ECTS_Semester\", Zieltyp.ECTS_SEMESTER, 30.0, 0.0, False)\n",
    "        studienziel_notenschnitt = Studienziel(\"Ziel_Notenschnitt\", Zieltyp.NOTENSCHNITT, 2.0, 5.0, False)\n",
    "        studienziel_lernstunden = Studienziel(\"Ziel_Lernstunden\", Zieltyp.LERNZEIT, 4.0, 0.0, False)\n",
    "        dv.speichere(\"studienziele\", [studienziel_ects_gesamt, studienziel_ects_semester,\n",
    "                                                      studienziel_notenschnitt, studienziel_lernstunden])\n",
    "\n",
    "\n",
    "    ds = DashboardService()\n",
    "    \n",
    "    # Dashboard starten\n",
    "    root = tk.Tk()\n",
    "    app = StudentDashboard(root)\n",
    "    root.mainloop()\n",
    "\n",
    "\n",
    "if __name__ == \"__main__\":\n",
    "    main()"
   ]
  }
 ],
 "metadata": {
  "kernelspec": {
   "display_name": "Python [conda env:base] *",
   "language": "python",
   "name": "conda-base-py"
  },
  "language_info": {
   "codemirror_mode": {
    "name": "ipython",
    "version": 3
   },
   "file_extension": ".py",
   "mimetype": "text/x-python",
   "name": "python",
   "nbconvert_exporter": "python",
   "pygments_lexer": "ipython3",
   "version": "3.12.11"
  }
 },
 "nbformat": 4,
 "nbformat_minor": 5
}
